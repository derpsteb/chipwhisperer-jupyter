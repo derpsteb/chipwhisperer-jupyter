{
 "cells": [
  {
   "cell_type": "code",
   "execution_count": null,
   "metadata": {
    "ExecuteTime": {
     "end_time": "2021-01-11T10:35:38.542636Z",
     "start_time": "2021-01-11T10:35:38.540599Z"
    }
   },
   "outputs": [],
   "source": [
    "SCOPETYPE = 'OPENADC'\n",
    "PLATFORM = 'CWLITEXMEGA'\n",
    "CRYPTO_TARGET = 'AVRCRYPTOLIB'"
   ]
  },
  {
   "cell_type": "code",
   "execution_count": null,
   "metadata": {
    "ExecuteTime": {
     "end_time": "2021-01-11T10:35:39.563994Z",
     "start_time": "2021-01-11T10:35:39.070016Z"
    }
   },
   "outputs": [],
   "source": [
    "%%bash -s \"$PLATFORM\" \"$CRYPTO_TARGET\"\n",
    "cd ../../hardware/victims/firmware/simpleserial-aes\n",
    "make PLATFORM=$1 CRYPTO_TARGET=$2"
   ]
  },
  {
   "cell_type": "code",
   "execution_count": null,
   "metadata": {
    "ExecuteTime": {
     "end_time": "2021-01-11T10:35:46.031072Z",
     "start_time": "2021-01-11T10:35:43.001899Z"
    },
    "scrolled": true
   },
   "outputs": [],
   "source": [
    "%run \"../Setup_Scripts/Setup_Generic.ipynb\""
   ]
  },
  {
   "cell_type": "code",
   "execution_count": null,
   "metadata": {
    "ExecuteTime": {
     "end_time": "2021-01-11T10:35:46.068045Z",
     "start_time": "2021-01-11T10:35:46.061580Z"
    },
    "scrolled": true
   },
   "outputs": [],
   "source": [
    "scope.scopetype.cwFirmwareConfig[0xACE2].loader.setFPGAMode(\"debug\")\n",
    "print(\"Mode: \" + str(scope.scopetype.cwFirmwareConfig[0xACE2].loader._release_mode))\n",
    "print(\"Mode: \" + str(scope.scopetype.cwFirmwareConfig[0xACE2].loader.fpga_bitstream()))"
   ]
  },
  {
   "cell_type": "code",
   "execution_count": null,
   "metadata": {
    "ExecuteTime": {
     "end_time": "2021-01-11T10:35:54.877033Z",
     "start_time": "2021-01-11T10:35:51.951101Z"
    },
    "scrolled": false
   },
   "outputs": [],
   "source": [
    "%run \"../Setup_Scripts/Setup_Generic.ipynb\""
   ]
  },
  {
   "cell_type": "code",
   "execution_count": null,
   "metadata": {
    "ExecuteTime": {
     "end_time": "2021-01-11T10:34:48.985425Z",
     "start_time": "2021-01-11T10:34:48.442491Z"
    },
    "scrolled": true
   },
   "outputs": [],
   "source": [
    "fw_path = '../../hardware/victims/firmware/simpleserial-aes/simpleserial-aes-{}.hex'.format(PLATFORM)\n",
    "cw.program_target(scope, prog, fw_path)"
   ]
  },
  {
   "cell_type": "code",
   "execution_count": null,
   "metadata": {
    "scrolled": false
   },
   "outputs": [],
   "source": [
    "import holoviews as hv\n",
    "from holoviews.streams import Pipe, Buffer\n",
    "import pandas as pd\n",
    "from tqdm import tnrange\n",
    "import numpy\n",
    "from chipwhisperer.common.traces import Trace\n",
    "import chipwhisperer.analyzer as cwa\n",
    "import chipwhisperer as cw\n",
    "from scipy.ndimage.filters import uniform_filter1d\n",
    "\n",
    "\n",
    "class real_time_plot:\n",
    "    def __init__(self, plot_len, title=\"Plot\"):\n",
    "        hv.extension('bokeh')\n",
    "        st = pd.DataFrame({'y':[]}, columns=['y'])\n",
    "        self.dfstream = Buffer(st, length=plot_len, index=False)\n",
    "        curve_dmap = hv.DynamicMap(hv.Curve, streams=[self.dfstream])\n",
    "        curve_dmap.opts(tools=[\"hover\"], width=800, height=600, title=title)\n",
    "#         curve_dmap.relabel('Tick formatters').opts(xformatter='$%.8f', yformatter='$%.2f', width=500) \n",
    "        display(curve_dmap)\n",
    "        self.curve = curve_dmap\n",
    "    def send(self, data):\n",
    "        if hasattr(data, 'wave'):\n",
    "            d = data.wave\n",
    "        else:\n",
    "            d = data\n",
    "        self.dfstream.send(pd.DataFrame({'y':d}))\n",
    "        \n",
    "def powercycle_target(scope):\n",
    "    scope.io.tio1 = \"gpio_low\"\n",
    "    time.sleep(0.0001)\n",
    "    scope.io.tio1 = \"gpio_high\"\n",
    "\n",
    "def setup_ref_collection():\n",
    "    scope.clock.adc_src = \"clkgen_x1\"\n",
    "\n",
    "    scope.adc.basic_mode = \"rising_edge\"\n",
    "    scope.trigger.module = \"basic\"\n",
    "    scope.trigger.triggers = \"tio4\"\n",
    "    print(\"trigger pin: %s\" % scope.trigger.triggers)\n",
    "\n",
    "    scope.adc.offset = offset\n",
    "    scope.adc.samples = nr_samples\n",
    "    scope.adc.presamples=0\n",
    "    scope.gain.gain = 50\n",
    "    \n",
    "def collect_reference_trace(traces, nr_samples, offset):\n",
    "    setup_ref_collection()\n",
    "\n",
    "    new_trace = numpy.zeros(traces*nr_samples)\n",
    "    for i in tnrange(traces, desc='Capturing traces'):\n",
    "        cur_offset = int(offset + nr_samples*i)\n",
    "        scope.adc.offset = cur_offset\n",
    "\n",
    "        scope.arm()\n",
    "        powercycle_target(scope)\n",
    "        scope.capture()\n",
    "\n",
    "        trace = scope.get_last_trace()\n",
    "        if trace is None:\n",
    "            continue\n",
    "        new_trace = numpy.append(new_trace, trace)\n",
    "    plot.send(new_trace)\n",
    "    return new_trace\n",
    "\n",
    "def collect_offline_traces(traces, offset):\n",
    "    setup_ref_collection()\n",
    "    scope.adc.offset = offset\n",
    "    \n",
    "    project = cw.create_project(\"projects/sad_traces\", overwrite = True)\n",
    "\n",
    "    for i in tnrange(traces, desc='Capturing traces'):\n",
    "        scope.arm()\n",
    "        powercycle_target(scope)\n",
    "        scope.capture()\n",
    "\n",
    "        wave = scope.get_last_trace()\n",
    "        if trace is None:\n",
    "            continue\n",
    "        project.traces.append(Trace(wave, None, None, None))\n",
    "#         plot.send(wave)\n",
    "    project.save()\n",
    "    return project\n",
    "\n",
    "class edge_count:\n",
    "    def __init__(self, edge_type, settling_time, trig_threshold, edge_num):\n",
    "        self.edge_type = edge_type\n",
    "        self.settling_time = settling_time\n",
    "        self.trig_threshold = trig_threshold\n",
    "        self.edge_num = edge_num\n",
    "        \n",
    "    def run(self, trace):\n",
    "#         kernel = numpy.ones(length)/length\n",
    "        \n",
    "        # https://stackoverflow.com/questions/13728392/moving-average-or-running-mean\n",
    "        ret = uniform_filter1d(trace, size=self.settling_time)\n",
    "        \n",
    "#         print(f\"trace len: {length}\")\n",
    "#         print(f\"kernel len: {len(kernel)}\")\n",
    "#         print(f\"kernel: {kernel}\")\n",
    "        print(f\"trace: {trace}\")\n",
    "        print(f\"ret: {ret}\")\n",
    "        \n",
    "        return ret\n",
    "\n",
    "offset = int(24400*0)\n",
    "traces = 100\n",
    "nr_samples = 24400"
   ]
  },
  {
   "cell_type": "code",
   "execution_count": null,
   "metadata": {},
   "outputs": [],
   "source": [
    "# plot = real_time_plot(plot_len=scope.adc.samples*traces)\n",
    "# trace = collect_reference_trace(traces, nr_samples, offset)\n",
    "project = collect_offline_traces(traces, 400000-2000)"
   ]
  },
  {
   "cell_type": "code",
   "execution_count": null,
   "metadata": {},
   "outputs": [],
   "source": [
    "project = cw.open_project(\"projects/sad_traces\")"
   ]
  },
  {
   "cell_type": "code",
   "execution_count": null,
   "metadata": {},
   "outputs": [],
   "source": [
    "import chipwhisperer.analyzer.preprocessing as cwa\n",
    "\n",
    "# pre_allign_plot = real_time_plot(plot_len=nr_samples)\n",
    "\n",
    "# ref_wave = numpy.zeros(nr_samples)\n",
    "# for i, el in enumerate(ref_wave):\n",
    "#     if i < 4000:\n",
    "#         ref_wave[i] = 0.2\n",
    "        \n",
    "# ref_trace = Trace(ref_wave, None, None, None)\n",
    "\n",
    "# new_p = cw.create_project(\"projects/tmp\", overwrite=True)\n",
    "# new_p.traces.append(ref_trace)\n",
    "# for trace in project.traces:\n",
    "#     new_p.traces.append(trace)\n",
    "\n",
    "resync_sad = cwa.ResyncSAD(new_p)\n",
    "ref_trace_idx = 0\n",
    "resync_sad.max_shift = 3950\n",
    "resync_sad.ref_trace = ref_trace_idx\n",
    "resync_sad.target_window = (3950, 4050)\n",
    "resync_sad._debugReturnSad = True\n",
    "\n",
    "# pre_allign_plot.send(new_p.traces[ref_trace_idx])\n",
    "edge_count = edge_count(None, 100, None, None)\n",
    "print(resync_sad)\n",
    "# project = new_p"
   ]
  },
  {
   "cell_type": "code",
   "execution_count": null,
   "metadata": {
    "scrolled": false
   },
   "outputs": [],
   "source": [
    "alligned_project = resync_sad.preprocess()"
   ]
  },
  {
   "cell_type": "code",
   "execution_count": null,
   "metadata": {
    "scrolled": false
   },
   "outputs": [],
   "source": [
    "import time \n",
    "\n",
    "original = real_time_plot(plot_len=nr_samples, title=\"original\")\n",
    "original.send(project.traces[0])\n",
    "pre_shift = real_time_plot(plot_len=nr_samples, title=\"pre-shift\")\n",
    "post_shift = real_time_plot(plot_len=nr_samples, title=\"post-shift\")\n",
    "for i in range(0, 6):\n",
    "    if i > 5:\n",
    "        break\n",
    "    pre_shift.send(project.traces[i])\n",
    "    post_shift.dfstream.clear()\n",
    "    convol = edge_count.run(project.traces[i].wave)\n",
    "    \n",
    "    post_shift.send(convol)\n",
    "    \n",
    "    \n",
    "#     zeros_pre = numpy.count_nonzero(project.traces[i].wave == 0)\n",
    "#     zeros_post = numpy.count_nonzero(trace.wave == 0)\n",
    "#     print(f\"zeros pre shift: {zeros_pre}\")\n",
    "#     print(f\"indices 0 pre shift: {numpy.where(project.traces[i].wave == 0)}\")\n",
    "#     print(f\"zeros post shift: {zeros_post}\")\n",
    "#     print(f\"difference: {abs((zeros_pre - zeros_post))}\")\n",
    "#     print(f\"indices 0 pre shift: {numpy.where(trace.wave == 0)}\")\n",
    "    input(\"next?\")"
   ]
  },
  {
   "cell_type": "code",
   "execution_count": null,
   "metadata": {
    "ExecuteTime": {
     "end_time": "2021-01-11T10:34:57.397103Z",
     "start_time": "2021-01-11T10:34:57.393424Z"
    }
   },
   "outputs": [],
   "source": [
    "point = int(561180-64) #int(1.444E5)\n",
    "# scope.adc.stream_mode = False\n",
    "scope.SAD.reference = trace[point:point+128]\n",
    "hv.Curve(scope.SAD.reference).opts(tools=[\"hover\"], width=900, height=600)"
   ]
  },
  {
   "cell_type": "code",
   "execution_count": null,
   "metadata": {},
   "outputs": [],
   "source": [
    "scope.SAD.threshold = 5000"
   ]
  },
  {
   "cell_type": "code",
   "execution_count": null,
   "metadata": {
    "ExecuteTime": {
     "end_time": "2021-01-11T10:35:04.608492Z",
     "start_time": "2021-01-11T10:35:04.459742Z"
    },
    "scrolled": true
   },
   "outputs": [],
   "source": [
    "scope.SAD.start()\n",
    "print(scope.SAD.check_status())\n",
    "print(scope.SAD.getThreshold())\n",
    "scope.trigger.module = \"SAD\"\n",
    "scope.adc.basic_mode = \"rising_edge\"\n",
    "# scope.trigger\n",
    "scope.adc.samples = nr_samples\n",
    "scope.adc.presamples = 2000\n",
    "\n",
    "# print(scope)"
   ]
  },
  {
   "cell_type": "code",
   "execution_count": null,
   "metadata": {
    "scrolled": false
   },
   "outputs": [],
   "source": [
    "plot = real_time_plot(plot_len=20000)\n",
    "\n",
    "from tqdm import tnrange\n",
    "# ktp = cw.ktp.Basic()\n",
    "\n",
    "# key, text = ktp.next()\n",
    "\n",
    "for i in tnrange(10, desc='Capturing traces'):    \n",
    "    powercycle_target(scope)\n",
    "    scope.arm()\n",
    "    scope.capture()\n",
    "    trace = scope.get_last_trace()\n",
    "    if trace is None:\n",
    "        continue\n",
    "    plot.send(trace)"
   ]
  },
  {
   "cell_type": "code",
   "execution_count": null,
   "metadata": {},
   "outputs": [],
   "source": [
    "from tqdm import tnrange\n",
    "project = cw.create_project(\"projects/Tutorial_B5\", overwrite = True)\n",
    "for i in tnrange(100, desc='Capturing traces'):\n",
    "    key, text = ktp.next()  # manual creation of a key, text pair can be substituted here\n",
    "    trace = cw.capture_trace(scope, target, text, key)\n",
    "    if trace is None:\n",
    "        continue\n",
    "    project.traces.append(trace)\n",
    "project.save()"
   ]
  }
 ],
 "metadata": {
  "kernelspec": {
   "display_name": "Python 3",
   "language": "python",
   "name": "python3"
  },
  "language_info": {
   "codemirror_mode": {
    "name": "ipython",
    "version": 3
   },
   "file_extension": ".py",
   "mimetype": "text/x-python",
   "name": "python",
   "nbconvert_exporter": "python",
   "pygments_lexer": "ipython3",
   "version": "3.6.9"
  }
 },
 "nbformat": 4,
 "nbformat_minor": 2
}
