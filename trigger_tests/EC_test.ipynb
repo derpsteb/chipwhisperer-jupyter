{
 "cells": [
  {
   "cell_type": "code",
   "execution_count": null,
   "id": "fifteen-tanzania",
   "metadata": {},
   "outputs": [],
   "source": [
    "SCOPETYPE = 'OPENADC'\n",
    "PLATFORM = 'CWLITEXMEGA'\n",
    "CRYPTO_TARGET = 'AVRCRYPTOLIB'"
   ]
  },
  {
   "cell_type": "code",
   "execution_count": null,
   "id": "gross-indonesian",
   "metadata": {},
   "outputs": [],
   "source": [
    "%run \"../Setup_Scripts/Setup_Generic.ipynb\"\n",
    "\n",
    "scope.scopetype.cwFirmwareConfig[0xACE2].loader.setFPGAMode(\"debug\")\n",
    "print(\"Mode: \" + str(scope.scopetype.cwFirmwareConfig[0xACE2].loader._release_mode))\n",
    "print(\"Mode: \" + str(scope.scopetype.cwFirmwareConfig[0xACE2].loader.fpga_bitstream()))\n",
    "\n",
    "%run \"../Setup_Scripts/Setup_Generic.ipynb\""
   ]
  },
  {
   "cell_type": "code",
   "execution_count": null,
   "id": "inside-civilization",
   "metadata": {
    "scrolled": false
   },
   "outputs": [],
   "source": [
    "import holoviews as hv\n",
    "import pandas as pd\n",
    "import numpy as np\n",
    "\n",
    "from holoviews.streams import Pipe, Buffer\n",
    "from scipy.ndimage.filters import uniform_filter1d\n",
    "from tqdm import tnrange\n",
    "\n",
    "import chipwhisperer.analyzer as cwa\n",
    "import chipwhisperer as cw\n",
    "from chipwhisperer.common.traces import Trace\n",
    "\n",
    "def print_ec_conf():\n",
    "    print(f\"cw reports running:\\t\\t {scope.EC.check_status()}\")\n",
    "    print(f\"cw reports edge_num:\\t\\t {scope.EC.edge_num}\")\n",
    "    print(f\"cw reports settling_time:\\t {scope.EC.settling_time}\")\n",
    "    print(f\"cw reports pretrigger_ctr:\\t {scope.EC.pretrigger_ctr}\")\n",
    "    print(f\"cw reports edge_type:\\t\\t {scope.EC.edge_type}\")\n",
    "    print(f\"cw reports threshold:\\t\\t {scope.EC.threshold}\")\n",
    "    \n",
    "def main():\n",
    "    scope.EC.threshold = 0.016\n",
    "    scope.EC.edge_type = \"falling_edge\"\n",
    "    scope.EC.settling_time = 128\n",
    "    scope.EC.pretrigger_ctr = 6\n",
    "    scope.EC.edge_num = 1\n",
    "    scope.EC.start()\n",
    "    print_ec_conf()\n",
    "    \n",
    "main()"
   ]
  },
  {
   "cell_type": "code",
   "execution_count": null,
   "id": "textile-usage",
   "metadata": {},
   "outputs": [],
   "source": []
  },
  {
   "cell_type": "code",
   "execution_count": null,
   "id": "naughty-wellington",
   "metadata": {},
   "outputs": [],
   "source": []
  },
  {
   "cell_type": "code",
   "execution_count": null,
   "id": "raised-removal",
   "metadata": {},
   "outputs": [],
   "source": []
  },
  {
   "cell_type": "code",
   "execution_count": null,
   "id": "weekly-balance",
   "metadata": {},
   "outputs": [],
   "source": []
  }
 ],
 "metadata": {
  "kernelspec": {
   "display_name": "Python 3",
   "language": "python",
   "name": "python3"
  },
  "language_info": {
   "codemirror_mode": {
    "name": "ipython",
    "version": 3
   },
   "file_extension": ".py",
   "mimetype": "text/x-python",
   "name": "python",
   "nbconvert_exporter": "python",
   "pygments_lexer": "ipython3",
   "version": "3.6.9"
  }
 },
 "nbformat": 4,
 "nbformat_minor": 5
}
