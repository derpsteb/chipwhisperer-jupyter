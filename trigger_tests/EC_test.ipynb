{
 "cells": [
  {
   "cell_type": "code",
   "execution_count": null,
   "id": "still-flour",
   "metadata": {},
   "outputs": [],
   "source": [
    "%reload_ext autoreload\n",
    "%autoreload 2"
   ]
  },
  {
   "cell_type": "code",
   "execution_count": null,
   "id": "fifteen-tanzania",
   "metadata": {},
   "outputs": [],
   "source": [
    "SCOPETYPE = 'OPENvADC'\n",
    "PLATFORM = 'CWLITEXMEGA'\n",
    "CRYPTO_TARGET = 'AVRCRYPTOLIB'"
   ]
  },
  {
   "cell_type": "code",
   "execution_count": null,
   "id": "gross-indonesian",
   "metadata": {},
   "outputs": [],
   "source": [
    "%run \"../Setup_Scripts/Setup_Generic.ipynb\"\n",
    "\n",
    "scope.reload_fpga(\"../../cwlite_interface_ec.bit\")\n",
    "\n",
    "%run \"../Setup_Scripts/Setup_Generic.ipynb\""
   ]
  },
  {
   "cell_type": "code",
   "execution_count": null,
   "id": "inside-civilization",
   "metadata": {
    "scrolled": true
   },
   "outputs": [],
   "source": [
    "import holoviews as hv\n",
    "import pandas as pd\n",
    "import numpy as np\n",
    "\n",
    "from holoviews.streams import Pipe, Buffer\n",
    "from scipy.ndimage.filters import uniform_filter1d\n",
    "from tqdm import tnrange\n",
    "\n",
    "import chipwhisperer.analyzer as cwa\n",
    "import chipwhisperer as cw\n",
    "from chipwhisperer.common.traces import Trace\n",
    "\n",
    "def setup_sad():\n",
    "    print(\"------------------------------\")\n",
    "    scope.SAD.reference = np.zeros(128)\n",
    "    print(\"------------------------------\")\n",
    "    \n",
    "    print(f\"cw reports SAD.reference: {scope.SAD.reference}\")\n",
    "    \n",
    "    scope.SAD.threshold = 5000\n",
    "    print(f\"cw reports SAD.threshold: {scope.SAD.threshold}\")\n",
    "\n",
    "def print_ec_conf():\n",
    "    print(f\"cw reports running:\\t\\t {scope.EC.check_status()}\")\n",
    "    print(f\"cw reports edge_num:\\t\\t {scope.EC.edge_num}\")\n",
    "    print(f\"cw reports settling_time:\\t {scope.EC.settling_time}\")\n",
    "    print(f\"cw reports pretrigger_ctr:\\t {scope.EC.pretrigger_ctr}\")\n",
    "    print(f\"cw reports edge_type:\\t\\t {scope.EC.edge_type}\")\n",
    "    print(f\"cw reports threshold:\\t\\t {scope.EC.threshold}\")\n",
    "    print(f\"cw reports trigger module:\\t\\t {scope.trigger.module}\")\n",
    "    \n",
    "def setup_ec():\n",
    "    scope.EC.threshold = 0.016\n",
    "    scope.EC.start()\n",
    "    scope.EC.edge_type = \"falling_edge\"\n",
    "    scope.EC.settling_time = 128\n",
    "    scope.EC.pretrigger_ctr = 6\n",
    "    scope.EC.edge_num = 1\n",
    "    \n",
    "    scope.trigger.module = \"EC\"\n",
    "    \n",
    "setup_ec()\n",
    "print_ec_conf()"
   ]
  },
  {
   "cell_type": "code",
   "execution_count": null,
   "id": "dirty-option",
   "metadata": {},
   "outputs": [],
   "source": []
  }
 ],
 "metadata": {
  "kernelspec": {
   "display_name": "Python 3",
   "language": "python",
   "name": "python3"
  },
  "language_info": {
   "codemirror_mode": {
    "name": "ipython",
    "version": 3
   },
   "file_extension": ".py",
   "mimetype": "text/x-python",
   "name": "python",
   "nbconvert_exporter": "python",
   "pygments_lexer": "ipython3",
   "version": "3.6.9"
  }
 },
 "nbformat": 4,
 "nbformat_minor": 5
}
