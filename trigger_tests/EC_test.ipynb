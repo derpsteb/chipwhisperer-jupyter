{
 "cells": [
  {
   "cell_type": "code",
   "execution_count": null,
   "id": "still-flour",
   "metadata": {},
   "outputs": [],
   "source": [
    "%reload_ext autoreload\n",
    "%autoreload 2"
   ]
  },
  {
   "cell_type": "code",
   "execution_count": null,
   "id": "fifteen-tanzania",
   "metadata": {},
   "outputs": [],
   "source": [
    "SCOPETYPE = 'OPENvADC'\n",
    "PLATFORM = 'CWLITEXMEGA'\n",
    "CRYPTO_TARGET = 'AVRCRYPTOLIB'"
   ]
  },
  {
   "cell_type": "code",
   "execution_count": null,
   "id": "gross-indonesian",
   "metadata": {},
   "outputs": [],
   "source": [
    "%run \"../Setup_Scripts/Setup_Generic.ipynb\"\n",
    "\n",
    "scope.reload_fpga(\"../../cwlite_interface_ec.bit\")\n",
    "\n",
    "%run \"../Setup_Scripts/Setup_Generic.ipynb\""
   ]
  },
  {
   "cell_type": "code",
   "execution_count": null,
   "id": "inside-civilization",
   "metadata": {
    "scrolled": false
   },
   "outputs": [],
   "source": [
    "import holoviews as hv\n",
    "import pandas as pd\n",
    "import numpy as np\n",
    "\n",
    "from holoviews.streams import Pipe, Buffer\n",
    "from scipy.ndimage.filters import uniform_filter1d\n",
    "from tqdm.notebook import trange\n",
    "\n",
    "import chipwhisperer.analyzer as cwa\n",
    "import chipwhisperer as cw\n",
    "from chipwhisperer.common.traces import Trace\n",
    "\n",
    "class real_time_plot:\n",
    "    def __init__(self, plot_len, title=\"Plot\"):\n",
    "        hv.extension('bokeh')\n",
    "        st = pd.DataFrame({'y':[]}, columns=['y'])\n",
    "        self.dfstream = Buffer(st, length=plot_len, index=False)\n",
    "        curve_dmap = hv.DynamicMap(hv.Curve, streams=[self.dfstream])\n",
    "        curve_dmap.opts(tools=[\"hover\"], width=800, height=600, title=title)\n",
    "        display(curve_dmap)\n",
    "        self.curve = curve_dmap\n",
    "    def send(self, data):\n",
    "        if hasattr(data, 'wave'):\n",
    "            d = data.wave\n",
    "        else:\n",
    "            d = data\n",
    "        self.dfstream.send(pd.DataFrame({'y':d}))\n",
    "\n",
    "def powercycle_target(scope):\n",
    "    scope.io.tio1 = \"gpio_low\"\n",
    "    time.sleep(0.0001)\n",
    "    scope.io.tio1 = \"gpio_high\"\n",
    "\n",
    "def setup_sad():\n",
    "    scope.SAD.reference = np.ones(128)*0.4\n",
    "#     print(f\"cw reports SAD.reference: {scope.SAD.reference}\")\n",
    "\n",
    "    print(scope.SAD.check_status())\n",
    "    scope.SAD.threshold = 5000\n",
    "    print(f\"cw reports SAD.threshold: {scope.SAD.threshold}\")\n",
    "\n",
    "def print_ec_conf():\n",
    "    print(\"==== Trigger ====\")\n",
    "    print(f\"cw reports running:\\t\\t {scope.EC.check_status()}\")\n",
    "    print(f\"cw reports edge_num:\\t\\t {scope.EC.edge_num}\")\n",
    "    print(f\"cw reports settling_time:\\t {scope.EC.settling_time}\")\n",
    "    print(f\"cw reports pretrigger_ctr:\\t {scope.EC.pretrigger_ctr}\")\n",
    "    print(f\"cw reports edge_type:\\t\\t {scope.EC.edge_type}\")\n",
    "    print(f\"cw reports threshold:\\t\\t {scope.EC.threshold}\")\n",
    "    print(f\"cw reports trigger module:\\t {scope.trigger.module}\")\n",
    "    \n",
    "def setup_ec():\n",
    "    scope.EC.threshold = 0.016\n",
    "    scope.EC.edge_type = \"falling_edge\"\n",
    "    scope.EC.settling_time = 127\n",
    "    scope.EC.pretrigger_ctr = 1\n",
    "    scope.EC.edge_num = 1\n",
    "    \n",
    "    scope.clock.adc_src = \"clkgen_x1\"\n",
    "\n",
    "    scope.adc.basic_mode = \"low\"\n",
    "    scope.trigger.module = \"basic\"\n",
    "    scope.trigger.triggers = \"tio4\"\n",
    "\n",
    "    scope.adc.offset = offset\n",
    "    scope.gain.gain = 50\n",
    "    scope.adc.samples = nr_samples\n",
    "    scope.adc.presamples = 2000\n",
    "    \n",
    "def run_test_cycle():\n",
    "    plot = real_time_plot(plot_len=20000)\n",
    "\n",
    "    for i in trange(1, desc='Capturing traces'):    \n",
    "        powercycle_target(scope)\n",
    "        scope.arm()\n",
    "        scope.capture()\n",
    "        trace = scope.get_last_trace()\n",
    "        if trace is None:\n",
    "            continue\n",
    "        plot.send(trace)\n",
    "\n",
    "nr_samples = 24400  \n",
    "offset = 0\n",
    "setup_ec()\n",
    "print_ec_conf()\n",
    "# setup_sad()\n",
    "scope.trigger.triggers = \"tio4\"\n",
    "run_test_cycle()"
   ]
  },
  {
   "cell_type": "code",
   "execution_count": null,
   "id": "dirty-option",
   "metadata": {},
   "outputs": [],
   "source": []
  },
  {
   "cell_type": "code",
   "execution_count": null,
   "id": "chief-dealing",
   "metadata": {},
   "outputs": [],
   "source": []
  }
 ],
 "metadata": {
  "kernelspec": {
   "display_name": "Python 3",
   "language": "python",
   "name": "python3"
  },
  "language_info": {
   "codemirror_mode": {
    "name": "ipython",
    "version": 3
   },
   "file_extension": ".py",
   "mimetype": "text/x-python",
   "name": "python",
   "nbconvert_exporter": "python",
   "pygments_lexer": "ipython3",
   "version": "3.6.9"
  }
 },
 "nbformat": 4,
 "nbformat_minor": 5
}
