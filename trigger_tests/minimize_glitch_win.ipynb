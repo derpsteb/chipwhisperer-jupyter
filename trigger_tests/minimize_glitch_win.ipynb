{
 "cells": [
  {
   "cell_type": "code",
   "execution_count": null,
   "id": "wrong-chile",
   "metadata": {},
   "outputs": [],
   "source": [
    "import holoviews as hv\n",
    "import pandas as pd\n",
    "import numpy as np\n",
    "\n",
    "from holoviews.streams import Pipe, Buffer\n",
    "from scipy.ndimage.filters import uniform_filter1d\n",
    "from tqdm.notebook import trange\n",
    "from collections import OrderedDict  \n",
    "\n",
    "import chipwhisperer.analyzer as cwa\n",
    "import chipwhisperer as cw\n",
    "from chipwhisperer.common.traces import Trace\n",
    "import edge_counter\n",
    "import chipfail_lib\n",
    "import serial\n",
    "\n",
    "import random\n",
    "\n",
    "# init plotting        \n",
    "hv.extension('bokeh')\n",
    "\n",
    "def random_color():\n",
    "    return \"#\"+''.join([random.choice('0123456789ABCDEF') for j in range(6)])\n",
    "\n",
    "\n",
    "nb_win_size = 200\n",
    "nb_threshold = 0.015\n",
    "nb_edge_type = \"falling_edge\"\n",
    "nb_pretrigger_ctr = 150\n",
    "nb_edge_num = 1\n",
    "\n",
    "mb2_proj = cw.open_project(\"projects/working_mb2\")\n",
    "mb1_proj = cw.open_project(\"projects/invalid_mb1\")\n",
    "\n",
    "ec_offline = edge_counter.edge_count(nb_win_size, nb_threshold, nb_edge_num, nb_edge_type, nb_pretrigger_ctr)"
   ]
  },
  {
   "cell_type": "markdown",
   "id": "skilled-catch",
   "metadata": {},
   "source": [
    "# Isolate Triggers"
   ]
  },
  {
   "cell_type": "code",
   "execution_count": null,
   "id": "opponent-point",
   "metadata": {},
   "outputs": [],
   "source": [
    "mb2_traces = {}\n",
    "mb1_traces = {}\n",
    "test = {}\n",
    "j = 0\n",
    "tmp = {}\n",
    "all_triggers_falling_mb2 = []\n",
    "all_triggers_falling_mb1 = []\n",
    "all_triggers_rising_mb2 = []\n",
    "all_triggers_rising_mb1 = []\n",
    "for i in range(0, 500):\n",
    "\n",
    "    ec_offline.edge_type = \"falling_edge\"\n",
    "    _, triggers_falling_mb2 = ec_offline.run(mb2_proj.waves[i], \"sum\")\n",
    "    _, triggers_falling_mb1 = ec_offline.run(mb1_proj.waves[i], \"sum\")\n",
    "    ec_offline.edge_type = \"rising_edge\"\n",
    "    _, triggers_rising_mb2 = ec_offline.run(mb2_proj.waves[i], \"sum\")\n",
    "    _, triggers_rising_mb1 = ec_offline.run(mb1_proj.waves[i], \"sum\")\n",
    "    \n",
    "    all_triggers_falling_mb2.extend([trigger for trigger in triggers_falling_mb2 if trigger > 9000 and trigger < 12000])\n",
    "    all_triggers_falling_mb1.extend([trigger for trigger in triggers_falling_mb1 if trigger > 9000 and trigger < 12000])\n",
    "    \n",
    "    all_triggers_rising_mb2.extend([trigger for trigger in triggers_rising_mb2 if trigger > 9000 and trigger < 12000])\n",
    "    all_triggers_rising_mb1.extend([trigger for trigger in triggers_rising_mb1 if trigger > 9000 and trigger < 12000])\n",
    "\n",
    "    \n",
    "# all_triggers = zip(all_triggers_rising_mb2, all_triggers_rising_mb1)"
   ]
  },
  {
   "cell_type": "markdown",
   "id": "accompanied-clearance",
   "metadata": {},
   "source": [
    "# Show traces"
   ]
  },
  {
   "cell_type": "code",
   "execution_count": null,
   "id": "vertical-tablet",
   "metadata": {},
   "outputs": [],
   "source": [
    "mb2_traces = {}\n",
    "mb1_traces = {}\n",
    "test = {}\n",
    "j = 0\n",
    "tmp = {}\n",
    "all_triggers = []\n",
    "for i in range(300, 305):\n",
    "    rand_col = random_color()\n",
    "    \n",
    "    mb2_traces[i] = hv.Curve(mb2_proj.waves[i]).opts(tools=[\"hover\"], width=800, height=600, title=\"orig\", axiswise=False, color=rand_col)\n",
    "    mb1_traces[i] = hv.Curve(mb1_proj.waves[i]).opts(tools=[\"hover\"], width=800, height=600, title=\"orig\", axiswise=False, color=rand_col)\n",
    "    \n",
    "    avg, triggers_falling = ec_offline.run(mb2_proj.waves[i], \"sum\")\n",
    "    \n",
    "    trigger_lines = {i: hv.VLine(trigger).opts(line_width=1, color=rand_col) for i, trigger in enumerate(triggers)}\n",
    "    tmp[i] = (mb2_traces[i]*hv.NdOverlay(trigger_lines).opts(legend_limit=1)).opts(legend_limit=1)\n",
    "\n",
    "# mb2_overlay = hv.NdOverlay(mb2_traces).opts(legend_limit=1)\n",
    "mb1_overlay = hv.NdOverlay(mb1_traces).opts(legend_limit=1)\n",
    "# line_overlay = hv.NdOverlay(trigger_lines).opts(legend_limit=1)\n",
    "mb1_overlay\n",
    "# tmp_overlay = hv.NdOverlay(tmp).opts(legend_limit=1)\n",
    "# tmp_overlay\n"
   ]
  },
  {
   "cell_type": "code",
   "execution_count": null,
   "id": "adjacent-finland",
   "metadata": {},
   "outputs": [],
   "source": [
    "def calc_stats(all_triggers):\n",
    "    distances = []\n",
    "    x1s = []\n",
    "    x2s = []\n",
    "    for x1, x2 in all_triggers:\n",
    "        x1s.append(x1)\n",
    "        x2s.append(x2)\n",
    "        distances.append(x2-x1)\n",
    "\n",
    "    print(f\"avg dist: {np.average(distances)}\")\n",
    "    print(f\"median dist: {np.median(distances)}\")\n",
    "    print(f\"median x1: {np.median(x1)}\")\n",
    "    print(f\"median x2: {np.median(x2)}\")\n",
    "    \n",
    "print(\"\\nfalling_mb2 --> rising_mb1\")\n",
    "calc_stats(zip(all_triggers_falling_mb2, all_triggers_rising_mb1))\n",
    "print(\"\\nfalling_mb2 --> falling_mb1\")\n",
    "calc_stats(zip(all_triggers_falling_mb2, all_triggers_falling_mb1))\n",
    "print(\"\\nrising_mb1 --> rising_mb2\")\n",
    "calc_stats(zip(all_triggers_rising_mb1, all_triggers_rising_mb2))\n",
    "print(\"\\nfalling_mb2 --> rising_mb2\")\n",
    "calc_stats(zip(all_triggers_falling_mb2, all_triggers_rising_mb2))"
   ]
  },
  {
   "cell_type": "code",
   "execution_count": null,
   "id": "tender-vision",
   "metadata": {},
   "outputs": [],
   "source": [
    "all_triggers_bak = list(all_triggers)"
   ]
  },
  {
   "cell_type": "code",
   "execution_count": null,
   "id": "accepting-roads",
   "metadata": {},
   "outputs": [],
   "source": [
    "print(all_triggers)"
   ]
  },
  {
   "cell_type": "code",
   "execution_count": null,
   "id": "hired-recycling",
   "metadata": {},
   "outputs": [],
   "source": []
  }
 ],
 "metadata": {
  "kernelspec": {
   "display_name": "Python 3",
   "language": "python",
   "name": "python3"
  },
  "language_info": {
   "codemirror_mode": {
    "name": "ipython",
    "version": 3
   },
   "file_extension": ".py",
   "mimetype": "text/x-python",
   "name": "python",
   "nbconvert_exporter": "python",
   "pygments_lexer": "ipython3",
   "version": "3.6.9"
  }
 },
 "nbformat": 4,
 "nbformat_minor": 5
}
