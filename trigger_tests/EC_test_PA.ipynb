{
 "cells": [
  {
   "cell_type": "markdown",
   "metadata": {},
   "source": [
    "# Attacking AES Without A Trigger - Using an Edge Trigger"
   ]
  },
  {
   "cell_type": "markdown",
   "metadata": {},
   "source": [
    "**This notebook can only be completed using the CWlite with the modified firmware containing the Edge Trigger module.**\n",
    "\n",
    "As usual, we'll start by setting up the firmware for the target.\n",
    "\n",
    "If you want to *totally* remove the trigger, navigate to `../../chipwhisperer/hardware/victims/firmware/simpleserial-aes` and open `simpleserial-aes.c` in your favourite text editor. Find the following code and comment out `trigger_high();` and `trigger_low();`:\n",
    "\n",
    "```C\n",
    "uint8_t get_pt(uint8_t* pt)\n",
    "{\n",
    "\ttrigger_high();\n",
    "\taes_indep_enc(pt); /* encrypting the data block */\n",
    "\ttrigger_low();\n",
    "\tsimpleserial_put('r', 16, pt);\n",
    "\treturn 0x00;\n",
    "}\n",
    "```\n",
    "\n",
    "Then build the firmware:"
   ]
  },
  {
   "cell_type": "code",
   "execution_count": null,
   "metadata": {
    "ExecuteTime": {
     "end_time": "2021-02-16T09:53:40.921953Z",
     "start_time": "2021-02-16T09:53:40.915155Z"
    }
   },
   "outputs": [],
   "source": [
    "SCOPETYPE = 'OPENADC'\n",
    "PLATFORM = 'CWLITEXMEGA'\n",
    "CRYPTO_TARGET = 'AVRCRYPTOLIB'"
   ]
  },
  {
   "cell_type": "code",
   "execution_count": null,
   "metadata": {
    "ExecuteTime": {
     "end_time": "2021-02-16T09:53:41.901235Z",
     "start_time": "2021-02-16T09:53:41.313327Z"
    }
   },
   "outputs": [],
   "source": [
    "%%bash -s \"$PLATFORM\" \"$CRYPTO_TARGET\"\n",
    "cd ../../hardware/victims/firmware/simpleserial-aes\n",
    "make PLATFORM=$1 CRYPTO_TARGET=$2"
   ]
  },
  {
   "cell_type": "markdown",
   "metadata": {},
   "source": [
    "## Setup and Trace Analysis"
   ]
  },
  {
   "cell_type": "code",
   "execution_count": null,
   "metadata": {
    "ExecuteTime": {
     "end_time": "2021-02-16T09:53:52.325378Z",
     "start_time": "2021-02-16T09:53:44.255123Z"
    }
   },
   "outputs": [],
   "source": [
    "def load_bitstream(bitstream_file):\n",
    "    %run \"../Setup_Scripts/Setup_Generic.ipynb\"\n",
    "    scope.scopetype.cwFirmwareConfig[0xACE2].loader.setFPGAMode(\"debug\")\n",
    "    scope.scopetype.cwFirmwareConfig[0xACE2].loader._bsLoc = bitstream_file\n",
    "    scope.scopetype.cwFirmwareConfig[0xACE2].loader.save_bsLoc()\n",
    "    print(\"Mode: \" + str(scope.scopetype.cwFirmwareConfig[0xACE2].loader._release_mode))\n",
    "    print(\"Mode: \" + str(scope.scopetype.cwFirmwareConfig[0xACE2].loader.fpga_bitstream()))\n",
    "    input(\"powercycle done?\")\n",
    "    %run \"../Setup_Scripts/Setup_Generic.ipynb\"\n",
    "    \n",
    "load_bitstream(\"../../hardware/capture/chipwhisperer-lite/cwlite_interface_ec_256.bit\")"
   ]
  },
  {
   "cell_type": "markdown",
   "metadata": {},
   "source": [
    "And program the device:"
   ]
  },
  {
   "cell_type": "code",
   "execution_count": null,
   "metadata": {
    "ExecuteTime": {
     "end_time": "2021-02-16T09:53:54.084789Z",
     "start_time": "2021-02-16T09:53:53.511572Z"
    }
   },
   "outputs": [],
   "source": [
    "fw_path = '../../hardware/victims/firmware/simpleserial-aes/simpleserial-aes-{}.hex'.format(PLATFORM)\n",
    "cw.program_target(scope, prog, fw_path)"
   ]
  },
  {
   "cell_type": "markdown",
   "metadata": {},
   "source": [
    "Next, let's get into what stream mode is. Essentially, stream mode allows the ChipWhisperer software to continuously read power measurements back from the scope enabling extremely long captures. In theory, there's no limit to how long these captures can be, but keep in mind very long wave (in the millions of samples) can easily outstrip your computer's memory. Even if you can store the wave itself, doing anything else with the wave may cause memory errors.\n",
    "\n",
    "Stream mode does have one major limit though: sample rate. With stream mode enabled, the Pro can only record traces at a sample rate of less than 10MHz. Our typical 4\\*7.37MHz ADC clock easily outpaces that, so we'll need to change our clocksource to be 7.37MHz instead:"
   ]
  },
  {
   "cell_type": "code",
   "execution_count": null,
   "metadata": {
    "ExecuteTime": {
     "end_time": "2021-02-16T09:53:54.238159Z",
     "start_time": "2021-02-16T09:53:54.232203Z"
    }
   },
   "outputs": [],
   "source": [
    "scope.clock.adc_src = \"clkgen_x1\""
   ]
  },
  {
   "cell_type": "markdown",
   "metadata": {},
   "source": [
    "We'll need to set our regular trigger to be `\"low\"` so that the scope will immediately trigger and start capturing after being armed:"
   ]
  },
  {
   "cell_type": "code",
   "execution_count": null,
   "metadata": {
    "ExecuteTime": {
     "end_time": "2021-02-16T09:53:55.170830Z",
     "start_time": "2021-02-16T09:53:55.164496Z"
    }
   },
   "outputs": [],
   "source": [
    "scope.adc.basic_mode = \"low\"\n",
    "scope.trigger.module = \"basic\""
   ]
  },
  {
   "cell_type": "code",
   "execution_count": null,
   "metadata": {
    "ExecuteTime": {
     "end_time": "2021-02-16T09:53:55.670412Z",
     "start_time": "2021-02-16T09:53:55.664980Z"
    }
   },
   "outputs": [],
   "source": [
    "scope.adc.samples=20000"
   ]
  },
  {
   "cell_type": "markdown",
   "metadata": {},
   "source": [
    "That's it! We can now capture a trace."
   ]
  },
  {
   "cell_type": "code",
   "execution_count": null,
   "metadata": {
    "ExecuteTime": {
     "end_time": "2021-02-16T09:53:56.197813Z",
     "start_time": "2021-02-16T09:53:56.192495Z"
    }
   },
   "outputs": [],
   "source": [
    "scope.gain.gain = 40"
   ]
  },
  {
   "cell_type": "code",
   "execution_count": null,
   "metadata": {
    "ExecuteTime": {
     "end_time": "2021-02-16T09:53:58.573866Z",
     "start_time": "2021-02-16T09:53:56.626449Z"
    }
   },
   "outputs": [],
   "source": [
    "%run \"../Helper_Scripts/plot.ipynb\"\n",
    "plot = real_time_plot(plot_len=20000)"
   ]
  },
  {
   "cell_type": "code",
   "execution_count": null,
   "metadata": {
    "ExecuteTime": {
     "end_time": "2021-02-16T09:53:59.691192Z",
     "start_time": "2021-02-16T09:53:58.576315Z"
    }
   },
   "outputs": [],
   "source": [
    "from tqdm import tnrange\n",
    "ktp = cw.ktp.Basic()\n",
    "\n",
    "key, text = ktp.next()\n",
    "\n",
    "for i in tnrange(10, desc='Capturing traces'):    \n",
    "    trace = cw.capture_trace(scope, target, text, key)\n",
    "    if trace is None:\n",
    "        continue\n",
    "    plot.send(trace)"
   ]
  },
  {
   "cell_type": "markdown",
   "metadata": {},
   "source": [
    "## Configure the Edge Trigger module"
   ]
  },
  {
   "cell_type": "code",
   "execution_count": null,
   "metadata": {
    "ExecuteTime": {
     "end_time": "2021-02-16T09:54:03.292160Z",
     "start_time": "2021-02-16T09:54:03.274707Z"
    }
   },
   "outputs": [],
   "source": [
    "scope.EC.window_size = 1\n",
    "scope.EC.threshold = 0.42\n",
    "\n",
    "scope.EC.hold_cycles = 1\n",
    "scope.EC.edge_num = 1\n",
    "scope.EC.edge_type = \"rising_edge\"\n",
    "\n",
    "scope.trigger.module = \"EC\"\n",
    "scope.adc.basic_mode = \"rising_edge\"\n",
    "scope.adc.presamples=400"
   ]
  },
  {
   "cell_type": "code",
   "execution_count": null,
   "metadata": {
    "ExecuteTime": {
     "end_time": "2021-02-16T09:54:04.071874Z",
     "start_time": "2021-02-16T09:54:04.059552Z"
    }
   },
   "outputs": [],
   "source": [
    "scope.EC.start()\n",
    "scope.EC.check_status()"
   ]
  },
  {
   "cell_type": "code",
   "execution_count": null,
   "metadata": {
    "ExecuteTime": {
     "end_time": "2021-02-16T09:54:04.468565Z",
     "start_time": "2021-02-16T09:54:04.459748Z"
    }
   },
   "outputs": [],
   "source": [
    "scope.trigger"
   ]
  },
  {
   "cell_type": "code",
   "execution_count": null,
   "metadata": {
    "ExecuteTime": {
     "end_time": "2021-02-16T09:54:04.863777Z",
     "start_time": "2021-02-16T09:54:04.853919Z"
    }
   },
   "outputs": [],
   "source": [
    "scope.adc"
   ]
  },
  {
   "cell_type": "markdown",
   "metadata": {},
   "source": [
    "## Test if trigger works"
   ]
  },
  {
   "cell_type": "code",
   "execution_count": null,
   "metadata": {
    "ExecuteTime": {
     "end_time": "2021-02-16T09:54:06.140910Z",
     "start_time": "2021-02-16T09:54:06.036822Z"
    }
   },
   "outputs": [],
   "source": [
    "from tqdm import tnrange\n",
    "project = cw.create_project(\"projects/SAD_test\", overwrite = True)\n",
    "for i in tnrange(3, desc='Capturing traces'):\n",
    "    key, text = ktp.next()  # manual creation of a key, text pair can be substituted here\n",
    "    trace = cw.capture_trace(scope, target, text, key)\n",
    "    if trace is None:\n",
    "        continue\n",
    "    project.traces.append(trace)"
   ]
  },
  {
   "cell_type": "markdown",
   "metadata": {},
   "source": [
    "## Capture traces using trigger"
   ]
  },
  {
   "cell_type": "code",
   "execution_count": null,
   "metadata": {
    "ExecuteTime": {
     "end_time": "2021-02-16T09:54:07.978350Z",
     "start_time": "2021-02-16T09:54:07.806787Z"
    }
   },
   "outputs": [],
   "source": [
    "%run \"../Helper_Scripts/plot.ipynb\"\n",
    "plot = real_time_plot(plot_len=20000)"
   ]
  },
  {
   "cell_type": "code",
   "execution_count": null,
   "metadata": {
    "ExecuteTime": {
     "end_time": "2021-02-16T09:54:13.612309Z",
     "start_time": "2021-02-16T09:54:12.519985Z"
    }
   },
   "outputs": [],
   "source": [
    "from tqdm import tnrange\n",
    "ktp = cw.ktp.Basic()\n",
    "\n",
    "key, text = ktp.next()\n",
    "\n",
    "for i in tnrange(10, desc='Capturing traces'):    \n",
    "    trace = cw.capture_trace(scope, target, text, key)\n",
    "    if trace is None:\n",
    "        continue\n",
    "    plot.send(trace)"
   ]
  },
  {
   "cell_type": "code",
   "execution_count": null,
   "metadata": {},
   "outputs": [],
   "source": []
  }
 ],
 "metadata": {
  "kernelspec": {
   "display_name": "Python 3",
   "language": "python",
   "name": "python3"
  },
  "language_info": {
   "codemirror_mode": {
    "name": "ipython",
    "version": 3
   },
   "file_extension": ".py",
   "mimetype": "text/x-python",
   "name": "python",
   "nbconvert_exporter": "python",
   "pygments_lexer": "ipython3",
   "version": "3.9.1"
  }
 },
 "nbformat": 4,
 "nbformat_minor": 2
}
